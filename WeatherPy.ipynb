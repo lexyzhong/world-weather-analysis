{
 "cells": [
  {
   "cell_type": "code",
   "execution_count": 1,
   "id": "b8c23592",
   "metadata": {},
   "outputs": [],
   "source": [
    "# Import the dependencies.\n",
    "import pandas as pd\n",
    "import matplotlib.pyplot as plt\n",
    "import numpy as np"
   ]
  },
  {
   "cell_type": "code",
   "execution_count": 2,
   "id": "99e43c8e",
   "metadata": {},
   "outputs": [
    {
     "data": {
      "text/plain": [
       "<zip at 0x7ffbd748efc0>"
      ]
     },
     "execution_count": 2,
     "metadata": {},
     "output_type": "execute_result"
    }
   ],
   "source": [
    "# Create a set of random latitude and longitude combinations.\n",
    "lats = np.random.uniform(low=-90.000, high=90.000, size=1500)\n",
    "lngs = np.random.uniform(low=-180.000, high=180.000, size=1500)\n",
    "lat_lngs = zip(lats, lngs)\n",
    "lat_lngs"
   ]
  },
  {
   "cell_type": "code",
   "execution_count": 3,
   "id": "9f56e36d",
   "metadata": {},
   "outputs": [],
   "source": [
    "# Add the latitudes and longitudes to a list.\n",
    "coordinates = list(lat_lngs)"
   ]
  },
  {
   "cell_type": "code",
   "execution_count": 4,
   "id": "6889c34e",
   "metadata": {},
   "outputs": [],
   "source": [
    "# Use the citipy module to determine city based on latitude and longitude.\n",
    "from citipy import citipy"
   ]
  },
  {
   "cell_type": "code",
   "execution_count": 5,
   "id": "1a8ded8b",
   "metadata": {},
   "outputs": [
    {
     "data": {
      "text/plain": [
       "626"
      ]
     },
     "execution_count": 5,
     "metadata": {},
     "output_type": "execute_result"
    }
   ],
   "source": [
    "# Create a list for holding the cities.\n",
    "cities = []\n",
    "# Identify the nearest city for each latitude and longitude combination.\n",
    "for coordinate in coordinates:\n",
    "    city = citipy.nearest_city(coordinate[0], coordinate[1]).city_name\n",
    "\n",
    "    # If the city is unique, then we will add it to the cities list.\n",
    "    if city not in cities:\n",
    "        cities.append(city)\n",
    "# Print the city count to confirm sufficient count.\n",
    "len(cities)"
   ]
  },
  {
   "cell_type": "code",
   "execution_count": 6,
   "id": "e0d80bec",
   "metadata": {},
   "outputs": [],
   "source": [
    "# Import the requests library.\n",
    "import requests\n",
    "\n",
    "# Import the API key.\n",
    "from config import weather_api_key"
   ]
  },
  {
   "cell_type": "code",
   "execution_count": 7,
   "id": "15ab09a7",
   "metadata": {},
   "outputs": [],
   "source": [
    "# Starting URL for Weather Map API Call.\n",
    "url = \"http://api.openweathermap.org/data/2.5/weather?units=Imperial&appid=\" + weather_api_key"
   ]
  },
  {
   "cell_type": "code",
   "execution_count": 8,
   "id": "e8d73eb7",
   "metadata": {},
   "outputs": [],
   "source": [
    "# Import the time library and the datetime module from the datetime library \n",
    "import time\n",
    "from datetime import datetime"
   ]
  },
  {
   "cell_type": "code",
   "execution_count": null,
   "id": "539ae034",
   "metadata": {},
   "outputs": [
    {
     "name": "stdout",
     "output_type": "stream",
     "text": [
      "Beginning Data Retrieval     \n",
      "-----------------------------\n",
      "Processing Record 1 of Set 1 | faya\n",
      "Processing Record 2 of Set 1 | bambous virieux\n",
      "Processing Record 3 of Set 1 | lasa\n",
      "Processing Record 4 of Set 1 | bengkulu\n",
      "Processing Record 5 of Set 1 | hof\n",
      "Processing Record 6 of Set 1 | hermanus\n",
      "Processing Record 7 of Set 1 | quatre cocos\n",
      "Processing Record 8 of Set 1 | mahadday weyne\n",
      "City not found. Skipping...\n",
      "Processing Record 9 of Set 1 | chaykovskiy\n",
      "Processing Record 10 of Set 1 | port alfred\n",
      "Processing Record 11 of Set 1 | cape town\n",
      "Processing Record 12 of Set 1 | illoqqortoormiut\n",
      "City not found. Skipping...\n",
      "Processing Record 13 of Set 1 | pisco\n",
      "Processing Record 14 of Set 1 | upernavik\n",
      "Processing Record 15 of Set 1 | vaitupu\n",
      "City not found. Skipping...\n",
      "Processing Record 16 of Set 1 | umm durman\n",
      "City not found. Skipping...\n",
      "Processing Record 17 of Set 1 | taolanaro\n",
      "City not found. Skipping...\n",
      "Processing Record 18 of Set 1 | riyadh\n",
      "Processing Record 19 of Set 1 | tacuati\n",
      "Processing Record 20 of Set 1 | barrow\n",
      "Processing Record 21 of Set 1 | igarka\n",
      "Processing Record 22 of Set 1 | salalah\n",
      "Processing Record 23 of Set 1 | qaanaaq\n",
      "Processing Record 24 of Set 1 | dosso\n",
      "Processing Record 25 of Set 1 | vostok\n",
      "Processing Record 26 of Set 1 | arraial do cabo\n",
      "Processing Record 27 of Set 1 | san quintin\n",
      "Processing Record 28 of Set 1 | kamenskoye\n",
      "City not found. Skipping...\n",
      "Processing Record 29 of Set 1 | umm lajj\n",
      "Processing Record 30 of Set 1 | touros\n",
      "Processing Record 31 of Set 1 | bajo baudo\n",
      "City not found. Skipping...\n",
      "Processing Record 32 of Set 1 | caconda\n",
      "Processing Record 33 of Set 1 | mataura\n",
      "Processing Record 34 of Set 1 | kampot\n",
      "Processing Record 35 of Set 1 | barentsburg\n",
      "City not found. Skipping...\n",
      "Processing Record 36 of Set 1 | chuy\n",
      "Processing Record 37 of Set 1 | sao miguel do araguaia\n",
      "Processing Record 38 of Set 1 | ushuaia\n",
      "Processing Record 39 of Set 1 | jiayuguan\n",
      "Processing Record 40 of Set 1 | barcelos\n",
      "Processing Record 41 of Set 1 | kruisfontein\n",
      "Processing Record 42 of Set 1 | zachagansk\n",
      "City not found. Skipping...\n",
      "Processing Record 43 of Set 1 | bethel\n",
      "Processing Record 44 of Set 1 | belushya guba\n",
      "City not found. Skipping...\n",
      "Processing Record 45 of Set 1 | rikitea\n",
      "Processing Record 46 of Set 1 | punta arenas\n",
      "Processing Record 47 of Set 1 | albany\n",
      "Processing Record 48 of Set 1 | yumen\n",
      "Processing Record 49 of Set 1 | saskylakh\n",
      "Processing Record 50 of Set 1 | cherskiy\n"
     ]
    }
   ],
   "source": [
    "# Create an empty list to hold the weather data.\n",
    "city_data = []\n",
    "# Print the beginning of the logging.\n",
    "print(\"Beginning Data Retrieval     \")\n",
    "print(\"-----------------------------\")\n",
    "\n",
    "# Create counters.\n",
    "record_count = 1\n",
    "set_count = 1\n",
    "\n",
    "# Loop through all the cities in the list.\n",
    "for i, city in enumerate(cities):\n",
    "\n",
    "    # Group cities in sets of 50 for logging purposes.\n",
    "    if (i % 50 == 0 and i >= 50):\n",
    "        set_count += 1\n",
    "        record_count = 1\n",
    "        time.sleep(60)\n",
    "\n",
    "    # Create endpoint URL with each city.\n",
    "    city_url = url + \"&q=\" + city.replace(\" \",\"+\")\n",
    "\n",
    "    # Log the URL, record, and set numbers and the city.\n",
    "    print(f\"Processing Record {record_count} of Set {set_count} | {city}\")\n",
    "    # Add 1 to the record count.\n",
    "    record_count += 1\n",
    "    \n",
    "    # Run an API request for each of the cities.\n",
    "    try:\n",
    "        # Parse the JSON and retrieve data.\n",
    "        city_weather = requests.get(city_url).json()\n",
    "        # Parse out the needed data.\n",
    "        city_lat = city_weather[\"coord\"][\"lat\"]\n",
    "        city_lng = city_weather[\"coord\"][\"lon\"]\n",
    "        city_max_temp = city_weather[\"main\"][\"temp_max\"]\n",
    "        city_humidity = city_weather[\"main\"][\"humidity\"]\n",
    "        city_clouds = city_weather[\"clouds\"][\"all\"]\n",
    "        city_wind = city_weather[\"wind\"][\"speed\"]\n",
    "        city_country = city_weather[\"sys\"][\"country\"]\n",
    "        # Convert the date to ISO standard.\n",
    "        city_date = datetime.utcfromtimestamp(city_weather[\"dt\"]).strftime('%Y-%m-%d %H:%M:%S')\n",
    "        # Append the city information into city_data list.\n",
    "        city_data.append({\"City\": city.title(),\n",
    "                          \"Lat\": city_lat,\n",
    "                          \"Lng\": city_lng,\n",
    "                          \"Max Temp\": city_max_temp,\n",
    "                          \"Humidity\": city_humidity,\n",
    "                          \"Cloudiness\": city_clouds,\n",
    "                          \"Wind Speed\": city_wind,\n",
    "                          \"Country\": city_country,\n",
    "                          \"Date\": city_date})\n",
    "\n",
    "# If an error is experienced, skip the city.\n",
    "    except:\n",
    "        print(\"City not found. Skipping...\")\n",
    "        pass\n",
    "\n",
    "# Indicate that Data Loading is complete.\n",
    "print(\"-----------------------------\")\n",
    "print(\"Data Retrieval Complete      \")\n",
    "print(\"-----------------------------\")"
   ]
  },
  {
   "cell_type": "code",
   "execution_count": null,
   "id": "ccb595ba",
   "metadata": {},
   "outputs": [],
   "source": [
    "# Convert the array of dictionaries to a Pandas DataFrame.\n",
    "city_data_df = pd.DataFrame(city_data)\n",
    "city_data_df.head(10)"
   ]
  },
  {
   "cell_type": "code",
   "execution_count": null,
   "id": "89382020",
   "metadata": {},
   "outputs": [],
   "source": [
    "# Create the output file (CSV).\n",
    "output_data_file = \"weather_data/cities.csv\"\n",
    "# Export the City_Data into a CSV.\n",
    "city_data_df.to_csv(output_data_file, index_label=\"City_ID\")"
   ]
  },
  {
   "cell_type": "code",
   "execution_count": null,
   "id": "7bec5b91",
   "metadata": {},
   "outputs": [],
   "source": [
    "# Extract relevant fields from the DataFrame for plotting.\n",
    "lats = city_data_df[\"Lat\"]\n",
    "max_temps = city_data_df[\"Max Temp\"]\n",
    "humidity = city_data_df[\"Humidity\"]\n",
    "cloudiness = city_data_df[\"Cloudiness\"]\n",
    "wind_speed = city_data_df[\"Wind Speed\"]"
   ]
  },
  {
   "cell_type": "code",
   "execution_count": null,
   "id": "7afdb769",
   "metadata": {},
   "outputs": [],
   "source": [
    "# Import time module\n",
    "import time\n",
    "\n",
    "# Build the scatter plot for latitude vs. max temperature.\n",
    "plt.scatter(lats,\n",
    "            max_temps,\n",
    "            edgecolor=\"black\", linewidths=1, marker=\"o\",\n",
    "            alpha=0.8, label=\"Cities\")\n",
    "\n",
    "# Incorporate the other graph properties.\n",
    "plt.title(f\"City Latitude vs. Max Temperature \"+ time.strftime(\"%x\"))\n",
    "plt.ylabel(\"Max Temperature (F)\")\n",
    "plt.xlabel(\"Latitude\")\n",
    "plt.grid(True)\n",
    "\n",
    "# Save the figure.\n",
    "plt.savefig(\"weather_data/Fig1.png\")\n",
    "\n",
    "# Show plot.\n",
    "plt.show()"
   ]
  },
  {
   "cell_type": "code",
   "execution_count": null,
   "id": "6e21fa02",
   "metadata": {},
   "outputs": [],
   "source": [
    "# Build the scatter plots for latitude vs. humidity.\n",
    "plt.scatter(lats,\n",
    "            humidity,\n",
    "            edgecolor=\"black\", linewidths=1, marker=\"o\",\n",
    "            alpha=0.8, label=\"Cities\")\n",
    "\n",
    "# Incorporate the other graph properties.\n",
    "plt.title(f\"City Latitude vs. Humidity \"+ time.strftime(\"%x\"))\n",
    "plt.ylabel(\"Humidity (%)\")\n",
    "plt.xlabel(\"Latitude\")\n",
    "plt.grid(True)\n",
    "# Save the figure.\n",
    "plt.savefig(\"weather_data/Fig2.png\")\n",
    "# Show plot.\n",
    "plt.show()"
   ]
  },
  {
   "cell_type": "code",
   "execution_count": null,
   "id": "af2ff05d",
   "metadata": {
    "scrolled": true
   },
   "outputs": [],
   "source": [
    "# Build the scatter plots for latitude vs. cloudiness.\n",
    "plt.scatter(lats,\n",
    "            cloudiness,\n",
    "            edgecolor=\"black\", linewidths=1, marker=\"o\",\n",
    "            alpha=0.8, label=\"Cities\")\n",
    "\n",
    "# Incorporate the other graph properties.\n",
    "plt.title(f\"City Latitude vs. Cloudiness (%) \"+ time.strftime(\"%x\"))\n",
    "plt.ylabel(\"Cloudiness (%)\")\n",
    "plt.xlabel(\"Latitude\")\n",
    "plt.grid(True)\n",
    "# Save the figure.\n",
    "plt.savefig(\"weather_data/Fig3.png\")\n",
    "# Show plot.\n",
    "plt.show()"
   ]
  },
  {
   "cell_type": "code",
   "execution_count": null,
   "id": "f6f2862a",
   "metadata": {},
   "outputs": [],
   "source": [
    "# Build the scatter plots for latitude vs. wind speed.\n",
    "plt.scatter(lats,\n",
    "            wind_speed,\n",
    "            edgecolor=\"black\", linewidths=1, marker=\"o\",\n",
    "            alpha=0.8, label=\"Cities\")\n",
    "\n",
    "# Incorporate the other graph properties.\n",
    "plt.title(f\"City Latitude vs. Wind Speed \"+ time.strftime(\"%x\"))\n",
    "plt.ylabel(\"Wind Speed (mph)\")\n",
    "plt.xlabel(\"Latitude\")\n",
    "plt.grid(True)\n",
    "# Save the figure.\n",
    "plt.savefig(\"weather_data/Fig4.png\")\n",
    "# Show plot.\n",
    "plt.show()"
   ]
  },
  {
   "cell_type": "code",
   "execution_count": null,
   "id": "e1c2b45e",
   "metadata": {},
   "outputs": [],
   "source": [
    "# Create Northern and Southern Hemisphere DataFrames.\n",
    "northern_hemi_df = city_data_df.loc[(city_data_df[\"Lat\"] >= 0)]\n",
    "southern_hemi_df = city_data_df.loc[(city_data_df[\"Lat\"] < 0)]"
   ]
  },
  {
   "cell_type": "code",
   "execution_count": null,
   "id": "b2a5a083",
   "metadata": {},
   "outputs": [],
   "source": [
    "# Import linregress\n",
    "from scipy.stats import linregress\n",
    "\n",
    "# Create a function to create perform linear regression on the weather data\n",
    "# and plot a regression line and the equation with the data.\n",
    "def plot_linear_regression(x_values, y_values, title, y_label, text_coordinates):\n",
    "\n",
    "    # Run regression on hemisphere weather data.\n",
    "    (slope, intercept, r_value, p_value, std_err) = linregress(x_values, y_values)\n",
    "\n",
    "    # Calculate the regression line \"y values\" from the slope and intercept.\n",
    "    regress_values = x_values * slope + intercept\n",
    "    # Get the equation of the line.\n",
    "    line_eq = \"y = \" + str(round(slope,2)) + \"x + \" + str(round(intercept,2))\n",
    "    # Create a scatter plot and plot the regression line.\n",
    "    plt.scatter(x_values,y_values)\n",
    "    plt.plot(x_values,regress_values,\"r\")\n",
    "    # Annotate the text for the line equation.\n",
    "    plt.annotate(line_eq, text_coordinates, fontsize=15, color=\"red\")\n",
    "    plt.title(title)\n",
    "    plt.xlabel('Latitude')\n",
    "    plt.ylabel(y_label)\n",
    "    plt.show()"
   ]
  },
  {
   "cell_type": "code",
   "execution_count": null,
   "id": "b44a88b0",
   "metadata": {},
   "outputs": [],
   "source": [
    "# Linear regression on the Northern Hemisphere\n",
    "x_values = northern_hemi_df[\"Lat\"]\n",
    "y_values = northern_hemi_df[\"Max Temp\"]\n",
    "# Call the function.\n",
    "plot_linear_regression(x_values, y_values,\n",
    "                       'Linear Regression on the Northern Hemisphere \\\n",
    "                        for Maximum Temperature', 'Max Temp',(10,40))"
   ]
  },
  {
   "cell_type": "code",
   "execution_count": null,
   "id": "c5408323",
   "metadata": {},
   "outputs": [],
   "source": [
    "# Linear regression on the Southern Hemisphere\n",
    "x_values = southern_hemi_df[\"Lat\"]\n",
    "y_values = southern_hemi_df[\"Max Temp\"]\n",
    "# Call the function.\n",
    "plot_linear_regression(x_values, y_values,\n",
    "                       'Linear Regression on the Southern Hemisphere \\n for Maximum Temperature', 'Max Temp',(-50,90))"
   ]
  },
  {
   "cell_type": "code",
   "execution_count": null,
   "id": "7b1013ee",
   "metadata": {},
   "outputs": [],
   "source": [
    "# Linear regression on the Northern Hemisphere\n",
    "x_values = northern_hemi_df[\"Lat\"]\n",
    "y_values = northern_hemi_df[\"Humidity\"]\n",
    "# Call the function.\n",
    "plot_linear_regression(x_values, y_values,\n",
    "                       'Linear Regression on the Northern Hemisphere \\n'\n",
    "                       'for % Humidity', '% Humidity',(40,10))"
   ]
  },
  {
   "cell_type": "code",
   "execution_count": null,
   "id": "030ef66d",
   "metadata": {},
   "outputs": [],
   "source": [
    "# Linear regression on the Southern Hemisphere\n",
    "x_values = southern_hemi_df[\"Lat\"]\n",
    "y_values = southern_hemi_df[\"Humidity\"]\n",
    "# Call the function.\n",
    "plot_linear_regression(x_values, y_values,\n",
    "                       'Linear Regression on the Southern Hemisphere \\n for % Humidity', '% Humidity',(-50,15))"
   ]
  },
  {
   "cell_type": "code",
   "execution_count": null,
   "id": "557822b4",
   "metadata": {},
   "outputs": [],
   "source": [
    "# Linear regression on the Northern Hemisphere\n",
    "x_values = northern_hemi_df[\"Lat\"]\n",
    "y_values = northern_hemi_df[\"Cloudiness\"]\n",
    "# Call the function.\n",
    "plot_linear_regression(x_values, y_values,\n",
    "                       'Linear Regression on the Northern Hemisphere \\n'\n",
    "                       'for % Cloudiness', '% Cloudiness',(40,10))"
   ]
  },
  {
   "cell_type": "code",
   "execution_count": null,
   "id": "9ca76366",
   "metadata": {},
   "outputs": [],
   "source": [
    "# Linear regression on the Southern Hemisphere\n",
    "x_values = southern_hemi_df[\"Lat\"]\n",
    "y_values = southern_hemi_df[\"Cloudiness\"]\n",
    "# Call the function.\n",
    "plot_linear_regression(x_values, y_values,\n",
    "                       'Linear Regression on the Southern Hemisphere \\n for % Cloudiness', '% Cloudiness',(-50,60))"
   ]
  },
  {
   "cell_type": "code",
   "execution_count": null,
   "id": "14015fb3",
   "metadata": {},
   "outputs": [],
   "source": [
    "# Linear regression on the Northern Hemisphere\n",
    "x_values = northern_hemi_df[\"Lat\"]\n",
    "y_values = northern_hemi_df[\"Wind Speed\"]\n",
    "# Call the function.\n",
    "plot_linear_regression(x_values, y_values,\n",
    "                       'Linear Regression on the Northern Hemisphere \\n'\n",
    "                        'for Wind Speed', 'Wind Speed',(40,35))"
   ]
  },
  {
   "cell_type": "code",
   "execution_count": null,
   "id": "11c850f7",
   "metadata": {},
   "outputs": [],
   "source": [
    "# Linear regression on the Southern Hemisphere\n",
    "x_values = southern_hemi_df[\"Lat\"]\n",
    "y_values = southern_hemi_df[\"Wind Speed\"]\n",
    "# Call the function.\n",
    "plot_linear_regression(x_values, y_values,\n",
    "                       'Linear Regression on the Southern Hemisphere \\n'\n",
    "                        'for Wind Speed', 'Wind Speed',(-50,35))"
   ]
  },
  {
   "cell_type": "code",
   "execution_count": null,
   "id": "11c923f1",
   "metadata": {},
   "outputs": [],
   "source": []
  }
 ],
 "metadata": {
  "kernelspec": {
   "display_name": "PythonData",
   "language": "python",
   "name": "pythondata"
  },
  "language_info": {
   "codemirror_mode": {
    "name": "ipython",
    "version": 3
   },
   "file_extension": ".py",
   "mimetype": "text/x-python",
   "name": "python",
   "nbconvert_exporter": "python",
   "pygments_lexer": "ipython3",
   "version": "3.9.7"
  }
 },
 "nbformat": 4,
 "nbformat_minor": 5
}
